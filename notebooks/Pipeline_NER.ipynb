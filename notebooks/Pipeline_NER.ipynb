{
  "nbformat": 4,
  "nbformat_minor": 0,
  "metadata": {
    "colab": {
      "name": "Pipeline NER.ipynb",
      "provenance": [],
      "authorship_tag": "ABX9TyMe3TlnnfmZrWYKDjdu7Ein",
      "include_colab_link": true
    },
    "kernelspec": {
      "name": "python3",
      "display_name": "Python 3"
    },
    "language_info": {
      "name": "python"
    },
    "accelerator": "GPU",
    "gpuClass": "standard"
  },
  "cells": [
    {
      "cell_type": "markdown",
      "metadata": {
        "id": "view-in-github",
        "colab_type": "text"
      },
      "source": [
        "<a href=\"https://colab.research.google.com/github/arthurziegler/transformers-for-NLP/blob/main/notebooks/Pipeline_NER.ipynb\" target=\"_parent\"><img src=\"https://colab.research.google.com/assets/colab-badge.svg\" alt=\"Open In Colab\"/></a>"
      ]
    },
    {
      "cell_type": "code",
      "execution_count": 3,
      "metadata": {
        "colab": {
          "base_uri": "https://localhost:8080/"
        },
        "id": "Rdlqc0YnUb_v",
        "outputId": "9d8a8736-985f-409e-c85c-11e66b131613"
      },
      "outputs": [
        {
          "output_type": "stream",
          "name": "stdout",
          "text": [
            "Looking in indexes: https://pypi.org/simple, https://us-python.pkg.dev/colab-wheels/public/simple/\n",
            "Requirement already satisfied: transformers in /usr/local/lib/python3.7/dist-packages (4.21.1)\n",
            "Requirement already satisfied: packaging>=20.0 in /usr/local/lib/python3.7/dist-packages (from transformers) (21.3)\n",
            "Requirement already satisfied: numpy>=1.17 in /usr/local/lib/python3.7/dist-packages (from transformers) (1.21.6)\n",
            "Requirement already satisfied: regex!=2019.12.17 in /usr/local/lib/python3.7/dist-packages (from transformers) (2022.6.2)\n",
            "Requirement already satisfied: tokenizers!=0.11.3,<0.13,>=0.11.1 in /usr/local/lib/python3.7/dist-packages (from transformers) (0.12.1)\n",
            "Requirement already satisfied: huggingface-hub<1.0,>=0.1.0 in /usr/local/lib/python3.7/dist-packages (from transformers) (0.8.1)\n",
            "Requirement already satisfied: requests in /usr/local/lib/python3.7/dist-packages (from transformers) (2.23.0)\n",
            "Requirement already satisfied: pyyaml>=5.1 in /usr/local/lib/python3.7/dist-packages (from transformers) (6.0)\n",
            "Requirement already satisfied: tqdm>=4.27 in /usr/local/lib/python3.7/dist-packages (from transformers) (4.64.0)\n",
            "Requirement already satisfied: importlib-metadata in /usr/local/lib/python3.7/dist-packages (from transformers) (4.12.0)\n",
            "Requirement already satisfied: filelock in /usr/local/lib/python3.7/dist-packages (from transformers) (3.8.0)\n",
            "Requirement already satisfied: typing-extensions>=3.7.4.3 in /usr/local/lib/python3.7/dist-packages (from huggingface-hub<1.0,>=0.1.0->transformers) (4.1.1)\n",
            "Requirement already satisfied: pyparsing!=3.0.5,>=2.0.2 in /usr/local/lib/python3.7/dist-packages (from packaging>=20.0->transformers) (3.0.9)\n",
            "Requirement already satisfied: zipp>=0.5 in /usr/local/lib/python3.7/dist-packages (from importlib-metadata->transformers) (3.8.1)\n",
            "Requirement already satisfied: chardet<4,>=3.0.2 in /usr/local/lib/python3.7/dist-packages (from requests->transformers) (3.0.4)\n",
            "Requirement already satisfied: urllib3!=1.25.0,!=1.25.1,<1.26,>=1.21.1 in /usr/local/lib/python3.7/dist-packages (from requests->transformers) (1.24.3)\n",
            "Requirement already satisfied: idna<3,>=2.5 in /usr/local/lib/python3.7/dist-packages (from requests->transformers) (2.10)\n",
            "Requirement already satisfied: certifi>=2017.4.17 in /usr/local/lib/python3.7/dist-packages (from requests->transformers) (2022.6.15)\n"
          ]
        }
      ],
      "source": [
        "!pip install transformers"
      ]
    },
    {
      "cell_type": "code",
      "source": [
        "from transformers import pipeline"
      ],
      "metadata": {
        "id": "A92pRe3PUtrw"
      },
      "execution_count": 4,
      "outputs": []
    },
    {
      "cell_type": "code",
      "source": [
        "ner = pipeline(\"ner\", aggregation_strategy = 'simple', device=0)"
      ],
      "metadata": {
        "colab": {
          "base_uri": "https://localhost:8080/"
        },
        "id": "ayJkFSArUvGN",
        "outputId": "a2437381-60fe-497a-c5b5-aaaffcf1d345"
      },
      "execution_count": 5,
      "outputs": [
        {
          "output_type": "stream",
          "name": "stderr",
          "text": [
            "No model was supplied, defaulted to dbmdz/bert-large-cased-finetuned-conll03-english and revision f2482bf (https://huggingface.co/dbmdz/bert-large-cased-finetuned-conll03-english).\n",
            "Using a pipeline without specifying a model name and revision in production is not recommended.\n"
          ]
        }
      ]
    },
    {
      "cell_type": "code",
      "source": [
        "import pickle"
      ],
      "metadata": {
        "id": "gud2HDy0U18j"
      },
      "execution_count": 6,
      "outputs": []
    },
    {
      "cell_type": "code",
      "source": [
        "!wget -nc https://lazyprogrammer.me/course_files/nlp/ner_train.pkl\n",
        "!wget -nc https://lazyprogrammer.me/course_files/nlp/ner_test.pkl"
      ],
      "metadata": {
        "colab": {
          "base_uri": "https://localhost:8080/"
        },
        "id": "WWnhyqqEU-eB",
        "outputId": "6893c0df-0b9f-465e-9465-a6f2c78ffb8c"
      },
      "execution_count": 7,
      "outputs": [
        {
          "output_type": "stream",
          "name": "stdout",
          "text": [
            "File ‘ner_train.pkl’ already there; not retrieving.\n",
            "\n",
            "File ‘ner_test.pkl’ already there; not retrieving.\n",
            "\n"
          ]
        }
      ]
    },
    {
      "cell_type": "code",
      "source": [
        "with open('ner_train.pkl', 'rb') as f:\n",
        "    corpus_train = pickle.load(f)\n",
        "\n",
        "with open('ner_test.pkl', 'rb') as f:\n",
        "    corpus_test = pickle.load(f)"
      ],
      "metadata": {
        "id": "G2s3gx9aVdHY"
      },
      "execution_count": 8,
      "outputs": []
    },
    {
      "cell_type": "code",
      "source": [
        "print(len(corpus_train), len(corpus_test))"
      ],
      "metadata": {
        "colab": {
          "base_uri": "https://localhost:8080/"
        },
        "id": "HCN7QVudqejc",
        "outputId": "b488a846-3d1c-4999-fb8f-e291eb4346c6"
      },
      "execution_count": 63,
      "outputs": [
        {
          "output_type": "stream",
          "name": "stdout",
          "text": [
            "12733 2970\n"
          ]
        }
      ]
    },
    {
      "cell_type": "code",
      "source": [
        "len(corpus_test)"
      ],
      "metadata": {
        "colab": {
          "base_uri": "https://localhost:8080/"
        },
        "id": "QsoISjfZVpU_",
        "outputId": "06bab7ce-cf30-4818-8b81-77f69dfea677"
      },
      "execution_count": 62,
      "outputs": [
        {
          "output_type": "execute_result",
          "data": {
            "text/plain": [
              "2970"
            ]
          },
          "metadata": {},
          "execution_count": 62
        }
      ]
    },
    {
      "cell_type": "code",
      "source": [
        "corpus_test[:2]"
      ],
      "metadata": {
        "colab": {
          "base_uri": "https://localhost:8080/"
        },
        "id": "D4iG1XM3q8bG",
        "outputId": "ed48b7c1-11f8-4724-e28f-44ff5796b96e"
      },
      "execution_count": 64,
      "outputs": [
        {
          "output_type": "execute_result",
          "data": {
            "text/plain": [
              "[[('CRICKET', 'O'),\n",
              "  ('-', 'O'),\n",
              "  ('LEICESTERSHIRE', 'B-ORG'),\n",
              "  ('TAKE', 'O'),\n",
              "  ('OVER', 'O'),\n",
              "  ('AT', 'O'),\n",
              "  ('TOP', 'O'),\n",
              "  ('AFTER', 'O'),\n",
              "  ('INNINGS', 'O'),\n",
              "  ('VICTORY', 'O'),\n",
              "  ('.', 'O')],\n",
              " [('West', 'B-MISC'),\n",
              "  ('Indian', 'I-MISC'),\n",
              "  ('all-rounder', 'O'),\n",
              "  ('Phil', 'B-PER'),\n",
              "  ('Simmons', 'I-PER'),\n",
              "  ('took', 'O'),\n",
              "  ('four', 'O'),\n",
              "  ('for', 'O'),\n",
              "  ('38', 'O'),\n",
              "  ('on', 'O'),\n",
              "  ('Friday', 'O'),\n",
              "  ('as', 'O'),\n",
              "  ('Leicestershire', 'B-ORG'),\n",
              "  ('beat', 'O'),\n",
              "  ('Somerset', 'B-ORG'),\n",
              "  ('by', 'O'),\n",
              "  ('an', 'O'),\n",
              "  ('innings', 'O'),\n",
              "  ('and', 'O'),\n",
              "  ('39', 'O'),\n",
              "  ('runs', 'O'),\n",
              "  ('in', 'O'),\n",
              "  ('two', 'O'),\n",
              "  ('days', 'O'),\n",
              "  ('to', 'O'),\n",
              "  ('take', 'O'),\n",
              "  ('over', 'O'),\n",
              "  ('at', 'O'),\n",
              "  ('the', 'O'),\n",
              "  ('head', 'O'),\n",
              "  ('of', 'O'),\n",
              "  ('the', 'O'),\n",
              "  ('county', 'O'),\n",
              "  ('championship', 'O'),\n",
              "  ('.', 'O')]]"
            ]
          },
          "metadata": {},
          "execution_count": 64
        }
      ]
    },
    {
      "cell_type": "code",
      "source": [
        "inputs = []\n",
        "targets =[]\n",
        "\n",
        "for sentence_tag_pairs in corpus_test:\n",
        "    tokens = []\n",
        "    target = []\n",
        "    for token, tag in sentence_tag_pairs:\n",
        "        tokens.append(token)\n",
        "        target.append(tag)\n",
        "    inputs.append(tokens)\n",
        "    targets.append(target)"
      ],
      "metadata": {
        "id": "pTHBSJBBVrMh"
      },
      "execution_count": 10,
      "outputs": []
    },
    {
      "cell_type": "code",
      "source": [
        "inputs[9]"
      ],
      "metadata": {
        "colab": {
          "base_uri": "https://localhost:8080/"
        },
        "id": "RLM6ePsjWqjg",
        "outputId": "f2d69357-4cd7-419f-c245-535985102dd0"
      },
      "execution_count": 11,
      "outputs": [
        {
          "output_type": "execute_result",
          "data": {
            "text/plain": [
              "['He',\n",
              " 'was',\n",
              " 'well',\n",
              " 'backed',\n",
              " 'by',\n",
              " 'England',\n",
              " 'hopeful',\n",
              " 'Mark',\n",
              " 'Butcher',\n",
              " 'who',\n",
              " 'made',\n",
              " '70',\n",
              " 'as',\n",
              " 'Surrey',\n",
              " 'closed',\n",
              " 'on',\n",
              " '429',\n",
              " 'for',\n",
              " 'seven',\n",
              " ',',\n",
              " 'a',\n",
              " 'lead',\n",
              " 'of',\n",
              " '234',\n",
              " '.']"
            ]
          },
          "metadata": {},
          "execution_count": 11
        }
      ]
    },
    {
      "cell_type": "code",
      "source": [
        "from nltk.tokenize.treebank import TreebankWordDetokenizer"
      ],
      "metadata": {
        "id": "ts1DDYNpWt2o"
      },
      "execution_count": 12,
      "outputs": []
    },
    {
      "cell_type": "code",
      "source": [
        "detokenizer = TreebankWordDetokenizer()"
      ],
      "metadata": {
        "id": "H2rYs14IXAeE"
      },
      "execution_count": 13,
      "outputs": []
    },
    {
      "cell_type": "code",
      "source": [
        "detokenizer.detokenize(inputs[9])"
      ],
      "metadata": {
        "colab": {
          "base_uri": "https://localhost:8080/",
          "height": 35
        },
        "id": "X2mxJq_MXFsp",
        "outputId": "40a910a9-86b5-4c1b-cf1f-df959ef1c323"
      },
      "execution_count": 14,
      "outputs": [
        {
          "output_type": "execute_result",
          "data": {
            "text/plain": [
              "'He was well backed by England hopeful Mark Butcher who made 70 as Surrey closed on 429 for seven, a lead of 234.'"
            ],
            "application/vnd.google.colaboratory.intrinsic+json": {
              "type": "string"
            }
          },
          "metadata": {},
          "execution_count": 14
        }
      ]
    },
    {
      "cell_type": "code",
      "source": [
        "targets[9]"
      ],
      "metadata": {
        "colab": {
          "base_uri": "https://localhost:8080/"
        },
        "id": "YxtQ7mqLZPxC",
        "outputId": "951a39a4-6dbd-44a8-f81c-e97b6973ea68"
      },
      "execution_count": 15,
      "outputs": [
        {
          "output_type": "execute_result",
          "data": {
            "text/plain": [
              "['O',\n",
              " 'O',\n",
              " 'O',\n",
              " 'O',\n",
              " 'O',\n",
              " 'B-LOC',\n",
              " 'O',\n",
              " 'B-PER',\n",
              " 'I-PER',\n",
              " 'O',\n",
              " 'O',\n",
              " 'O',\n",
              " 'O',\n",
              " 'B-ORG',\n",
              " 'O',\n",
              " 'O',\n",
              " 'O',\n",
              " 'O',\n",
              " 'O',\n",
              " 'O',\n",
              " 'O',\n",
              " 'O',\n",
              " 'O',\n",
              " 'O',\n",
              " 'O']"
            ]
          },
          "metadata": {},
          "execution_count": 15
        }
      ]
    },
    {
      "cell_type": "code",
      "source": [
        "ner(detokenizer.detokenize(inputs[9]))"
      ],
      "metadata": {
        "colab": {
          "base_uri": "https://localhost:8080/"
        },
        "id": "BWosLEaWZT9b",
        "outputId": "82ac55cf-b800-4907-d246-e113f295c876"
      },
      "execution_count": 16,
      "outputs": [
        {
          "output_type": "execute_result",
          "data": {
            "text/plain": [
              "[{'entity_group': 'LOC',\n",
              "  'score': 0.99967515,\n",
              "  'word': 'England',\n",
              "  'start': 22,\n",
              "  'end': 29},\n",
              " {'entity_group': 'PER',\n",
              "  'score': 0.99974275,\n",
              "  'word': 'Mark Butcher',\n",
              "  'start': 38,\n",
              "  'end': 50},\n",
              " {'entity_group': 'ORG',\n",
              "  'score': 0.9996264,\n",
              "  'word': 'Surrey',\n",
              "  'start': 66,\n",
              "  'end': 72}]"
            ]
          },
          "metadata": {},
          "execution_count": 16
        }
      ]
    },
    {
      "cell_type": "code",
      "source": [
        "def compute_prediction(tokens, input_, ner_result):\n",
        "    # map hugging face ner results to a list of tags for performance assessment\n",
        "    # tokens is the original tokenized sentece (list of words)\n",
        "    # input_ is the detokenized string (the phrase)\n",
        "    # ner_result is the output of the hugging face pipeline\n",
        "\n",
        "    predicted_tags = []\n",
        "    state = 'O' #This will keep track of which part of the token we're at, so if O -> B, if B -> I, if I -> I\n",
        "    current_index = 0\n",
        "\n",
        "    for token in tokens:\n",
        "        # find the token in the input_\n",
        "        index = input_.find(token)\n",
        "        assert(index >= 0) #test if index is valid\n",
        "        current_index += index #where we are currently pointing to\n",
        "\n",
        "        #print(input_)\n",
        "        #print(token, current_index) #debugging\n",
        "        \n",
        "        # check if this index belongs to an entity and assign label\n",
        "        tag = 'O'\n",
        "        for entity in ner_result:\n",
        "            if current_index >= entity['start'] and current_index < entity['end']:\n",
        "                # then this token belongs to an entity\n",
        "                if state == 'O':\n",
        "                    state = 'B'\n",
        "                else:\n",
        "                    state = 'I'\n",
        "                tag = f\"{state}-{entity['entity_group']}\"\n",
        "                break\n",
        "        if tag == 'O':\n",
        "            # reset the state\n",
        "            state = 'O'\n",
        "        predicted_tags.append(tag)\n",
        "\n",
        "        # remove the token from input_ (This is needed because if there is another of the same entity it will match the first token in the sentence again, and that will be incorrect)\n",
        "        input_ = input_[index + len(token):]\n",
        "\n",
        "        #update current_index\n",
        "        current_index += len(token)\n",
        "        #print(current_index)\n",
        "    return predicted_tags"
      ],
      "metadata": {
        "id": "c12nBXpQZbxM"
      },
      "execution_count": 35,
      "outputs": []
    },
    {
      "cell_type": "code",
      "source": [
        "input_= detokenizer.detokenize(inputs[9]) ## The phrase that we are tagging\n",
        "ner_result = ner(input_) ## Output of the NER Pipeline\n",
        "ptags = compute_prediction(inputs[9], input_, ner_result) ## The function gets the list of words, the phrase and the ner output."
      ],
      "metadata": {
        "id": "JmQGPc8basfa"
      },
      "execution_count": 36,
      "outputs": []
    },
    {
      "cell_type": "code",
      "source": [
        "ptags"
      ],
      "metadata": {
        "colab": {
          "base_uri": "https://localhost:8080/"
        },
        "id": "zoCbliBQchOw",
        "outputId": "39effaad-af8d-48e0-eacf-fea9f563a363"
      },
      "execution_count": 37,
      "outputs": [
        {
          "output_type": "execute_result",
          "data": {
            "text/plain": [
              "['O',\n",
              " 'O',\n",
              " 'O',\n",
              " 'O',\n",
              " 'O',\n",
              " 'B-LOC',\n",
              " 'O',\n",
              " 'B-PER',\n",
              " 'I-PER',\n",
              " 'O',\n",
              " 'O',\n",
              " 'O',\n",
              " 'O',\n",
              " 'B-ORG',\n",
              " 'O',\n",
              " 'O',\n",
              " 'O',\n",
              " 'O',\n",
              " 'O',\n",
              " 'O',\n",
              " 'O',\n",
              " 'O',\n",
              " 'O',\n",
              " 'O',\n",
              " 'O']"
            ]
          },
          "metadata": {},
          "execution_count": 37
        }
      ]
    },
    {
      "cell_type": "code",
      "source": [
        "from sklearn.metrics import accuracy_score, f1_score"
      ],
      "metadata": {
        "id": "BHSmmknTkWMQ"
      },
      "execution_count": 38,
      "outputs": []
    },
    {
      "cell_type": "code",
      "source": [
        "accuracy_score(targets[9], ptags)"
      ],
      "metadata": {
        "colab": {
          "base_uri": "https://localhost:8080/"
        },
        "id": "_hU9zAAPmRRE",
        "outputId": "e67ce542-78cd-4120-8cfc-db2179e9b782"
      },
      "execution_count": 39,
      "outputs": [
        {
          "output_type": "execute_result",
          "data": {
            "text/plain": [
              "1.0"
            ]
          },
          "metadata": {},
          "execution_count": 39
        }
      ]
    },
    {
      "cell_type": "code",
      "source": [
        "for targ, pred in zip(targets[9], ptags):\n",
        "    print(targ,pred)"
      ],
      "metadata": {
        "colab": {
          "base_uri": "https://localhost:8080/"
        },
        "id": "EIvw4TksmWZ3",
        "outputId": "52a205cb-c34d-4db0-c8b9-1aa794808d27"
      },
      "execution_count": 40,
      "outputs": [
        {
          "output_type": "stream",
          "name": "stdout",
          "text": [
            "O O\n",
            "O O\n",
            "O O\n",
            "O O\n",
            "O O\n",
            "B-LOC B-LOC\n",
            "O O\n",
            "B-PER B-PER\n",
            "I-PER I-PER\n",
            "O O\n",
            "O O\n",
            "O O\n",
            "O O\n",
            "B-ORG B-ORG\n",
            "O O\n",
            "O O\n",
            "O O\n",
            "O O\n",
            "O O\n",
            "O O\n",
            "O O\n",
            "O O\n",
            "O O\n",
            "O O\n",
            "O O\n"
          ]
        }
      ]
    },
    {
      "cell_type": "code",
      "source": [
        "# get detokenized inputs to pass into ner model\n",
        "detok_inputs = []\n",
        "for tokens in inputs:\n",
        "    text = detokenizer.detokenize(tokens)\n",
        "    detok_inputs.append(text)"
      ],
      "metadata": {
        "id": "7W9i2fbxmc90"
      },
      "execution_count": 41,
      "outputs": []
    },
    {
      "cell_type": "code",
      "source": [
        "detok_inputs[:10]"
      ],
      "metadata": {
        "colab": {
          "base_uri": "https://localhost:8080/"
        },
        "id": "fof-PZmznfmk",
        "outputId": "de510384-d498-4b30-b28a-9ee5691b7b7c"
      },
      "execution_count": 43,
      "outputs": [
        {
          "output_type": "execute_result",
          "data": {
            "text/plain": [
              "['CRICKET - LEICESTERSHIRE TAKE OVER AT TOP AFTER INNINGS VICTORY.',\n",
              " 'West Indian all-rounder Phil Simmons took four for 38 on Friday as Leicestershire beat Somerset by an innings and 39 runs in two days to take over at the head of the county championship.',\n",
              " 'Their stay on top, though, may be short-lived as title rivals Essex, Derbyshire and Surrey all closed in on victory while Kent made up for lost time in their rain-affected match against Nottinghamshire.',\n",
              " 'After bowling Somerset out for 83 on the opening morning at Grace Road, Leicestershire extended their first innings by 94 runs before being bowled out for 296 with England discard Andy Caddick taking three for 83.',\n",
              " 'Trailing by 213, Somerset got a solid start to their second innings before Simmons stepped in to bundle them out for 174.',\n",
              " 'Essex, however, look certain to regain their top spot after Nasser Hussain and Peter Such gave them a firm grip on their match against Yorkshire at Headingley.',\n",
              " \"Hussain, considered surplus to England's one-day requirements, struck 158, his first championship century of the season, as Essex reached 372 and took a first innings lead of 82.\",\n",
              " 'By the close Yorkshire had turned that into a 37-run advantage but off-spinner Such had scuttled their hopes, taking four for 24 in 48 balls and leaving them hanging on 119 for five and praying for rain.',\n",
              " 'At the Oval, Surrey captain Chris Lewis, another man dumped by England, continued to silence his critics as he followed his four for 45 on Thursday with 80 not out on Friday in the match against Warwickshire.',\n",
              " 'He was well backed by England hopeful Mark Butcher who made 70 as Surrey closed on 429 for seven, a lead of 234.']"
            ]
          },
          "metadata": {},
          "execution_count": 43
        }
      ]
    },
    {
      "cell_type": "code",
      "source": [
        "ner_results = ner(detok_inputs)"
      ],
      "metadata": {
        "id": "cNtKDzTCnhI-"
      },
      "execution_count": 44,
      "outputs": []
    },
    {
      "cell_type": "code",
      "source": [
        "predictions = []\n",
        "for tokens, text, ner_result in zip(inputs, detok_inputs, ner_results):\n",
        "    pred = compute_prediction(tokens, text, ner_result)\n",
        "    predictions.append(pred)"
      ],
      "metadata": {
        "id": "-a5hp-SsnxZL"
      },
      "execution_count": 45,
      "outputs": []
    },
    {
      "cell_type": "code",
      "source": [
        "predictions[:2]"
      ],
      "metadata": {
        "colab": {
          "base_uri": "https://localhost:8080/"
        },
        "id": "eZeEYSy8odsr",
        "outputId": "ac4c98cd-80c5-47b3-8863-351adabff46c"
      },
      "execution_count": 48,
      "outputs": [
        {
          "output_type": "execute_result",
          "data": {
            "text/plain": [
              "[['O', 'O', 'B-PER', 'O', 'O', 'O', 'O', 'O', 'O', 'O', 'O'],\n",
              " ['B-MISC',\n",
              "  'I-MISC',\n",
              "  'O',\n",
              "  'B-PER',\n",
              "  'I-PER',\n",
              "  'O',\n",
              "  'O',\n",
              "  'O',\n",
              "  'O',\n",
              "  'O',\n",
              "  'O',\n",
              "  'O',\n",
              "  'B-ORG',\n",
              "  'O',\n",
              "  'B-ORG',\n",
              "  'O',\n",
              "  'O',\n",
              "  'O',\n",
              "  'O',\n",
              "  'O',\n",
              "  'O',\n",
              "  'O',\n",
              "  'O',\n",
              "  'O',\n",
              "  'O',\n",
              "  'O',\n",
              "  'O',\n",
              "  'O',\n",
              "  'O',\n",
              "  'O',\n",
              "  'O',\n",
              "  'O',\n",
              "  'O',\n",
              "  'O',\n",
              "  'O']]"
            ]
          },
          "metadata": {},
          "execution_count": 48
        }
      ]
    },
    {
      "cell_type": "code",
      "source": [
        "# Flatten the list of lists into a single list with all the predictions\n",
        "def flatten(list_of_lists):\n",
        "    flattened = [val for sublist in list_of_lists for val in sublist]\n",
        "    return flattened"
      ],
      "metadata": {
        "id": "PV95F-dwohi2"
      },
      "execution_count": 51,
      "outputs": []
    },
    {
      "cell_type": "code",
      "source": [
        "flat_predictions = flatten(predictions)\n",
        "flat_targets = flatten(targets)"
      ],
      "metadata": {
        "id": "8EoV-NL4o_85"
      },
      "execution_count": 52,
      "outputs": []
    },
    {
      "cell_type": "code",
      "source": [
        "print(len(flat_predictions), len(flat_targets))"
      ],
      "metadata": {
        "colab": {
          "base_uri": "https://localhost:8080/"
        },
        "id": "GW0PiqDupFhA",
        "outputId": "5fe2de60-c3a3-418b-d67b-411a8456402f"
      },
      "execution_count": 54,
      "outputs": [
        {
          "output_type": "stream",
          "name": "stdout",
          "text": [
            "50817 50817\n"
          ]
        }
      ]
    },
    {
      "cell_type": "code",
      "source": [
        "accuracy_score(flat_targets, flat_predictions)"
      ],
      "metadata": {
        "colab": {
          "base_uri": "https://localhost:8080/"
        },
        "id": "uebu5QxPpPYw",
        "outputId": "ba6fe513-2069-4964-f079-e4e88ed0e61c"
      },
      "execution_count": 55,
      "outputs": [
        {
          "output_type": "execute_result",
          "data": {
            "text/plain": [
              "0.9916563354782848"
            ]
          },
          "metadata": {},
          "execution_count": 55
        }
      ]
    },
    {
      "cell_type": "code",
      "source": [
        "f1_score(flat_targets, flat_predictions, average='macro')"
      ],
      "metadata": {
        "colab": {
          "base_uri": "https://localhost:8080/"
        },
        "id": "2esr-43epMsi",
        "outputId": "320fac46-9a94-4e5a-805f-0458eadf414b"
      },
      "execution_count": 56,
      "outputs": [
        {
          "output_type": "execute_result",
          "data": {
            "text/plain": [
              "0.95403328229255"
            ]
          },
          "metadata": {},
          "execution_count": 56
        }
      ]
    }
  ]
}